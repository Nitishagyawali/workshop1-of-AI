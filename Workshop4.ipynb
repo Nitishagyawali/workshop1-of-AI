{
  "nbformat": 4,
  "nbformat_minor": 0,
  "metadata": {
    "colab": {
      "provenance": [],
      "toc_visible": true,
      "authorship_tag": "ABX9TyPpmn99U1hM14gKTC/oTXEe",
      "include_colab_link": true
    },
    "kernelspec": {
      "name": "python3",
      "display_name": "Python 3"
    },
    "language_info": {
      "name": "python"
    }
  },
  "cells": [
    {
      "cell_type": "markdown",
      "metadata": {
        "id": "view-in-github",
        "colab_type": "text"
      },
      "source": [
        "<a href=\"https://colab.research.google.com/github/Nitishagyawali/workshop1-of-AI/blob/main/Workshop4.ipynb\" target=\"_parent\"><img src=\"https://colab.research.google.com/assets/colab-badge.svg\" alt=\"Open In Colab\"/></a>"
      ]
    },
    {
      "cell_type": "markdown",
      "source": [
        "# *Problem - 1: Perform a classification task with knn from scratch.*\n",
        "\n",
        "*1. Load the Dataset:*\n",
        "\n",
        "*• Read the dataset into a pandas DataFrame.*\n"
      ],
      "metadata": {
        "id": "kQ1FgetOSXBG"
      }
    },
    {
      "cell_type": "code",
      "source": [
        "from google.colab import drive\n",
        "drive.mount('/content/drive')\n",
        "\n",
        "import numpy as np\n",
        "import pandas as pd\n",
        "import matplotlib.pyplot as plt\n",
        "\n",
        "data = pd.read_csv(\"/content/drive/MyDrive/diabetes.csv\");\n"
      ],
      "metadata": {
        "colab": {
          "base_uri": "https://localhost:8080/"
        },
        "id": "DCSkAvVKSb_w",
        "outputId": "2f1d7a36-8a32-4161-9f2b-77ff89ab2768"
      },
      "execution_count": 3,
      "outputs": [
        {
          "output_type": "stream",
          "name": "stdout",
          "text": [
            "Drive already mounted at /content/drive; to attempt to forcibly remount, call drive.mount(\"/content/drive\", force_remount=True).\n"
          ]
        }
      ]
    },
    {
      "cell_type": "markdown",
      "source": [
        "**• Display the first few rows and perform exploratory data analysis (EDA) to understand the dataset\n",
        "(e.g., check data types, missing values, summary statistics)**\n",
        "\n"
      ],
      "metadata": {
        "id": "KoLiSj63VSZn"
      }
    },
    {
      "cell_type": "code",
      "source": [
        "data.head()\n",
        "data.dtypes\n",
        "data.isnull().sum()\n",
        "data.describe()\n"
      ],
      "metadata": {
        "colab": {
          "base_uri": "https://localhost:8080/",
          "height": 300
        },
        "id": "SI7cblA3VU4h",
        "outputId": "ac19aa97-eece-4fcb-d93a-9839502a62a7"
      },
      "execution_count": 4,
      "outputs": [
        {
          "output_type": "execute_result",
          "data": {
            "text/plain": [
              "       Pregnancies     Glucose  BloodPressure  SkinThickness     Insulin  \\\n",
              "count   768.000000  768.000000     768.000000     768.000000  768.000000   \n",
              "mean      3.845052  120.894531      69.105469      20.536458   79.799479   \n",
              "std       3.369578   31.972618      19.355807      15.952218  115.244002   \n",
              "min       0.000000    0.000000       0.000000       0.000000    0.000000   \n",
              "25%       1.000000   99.000000      62.000000       0.000000    0.000000   \n",
              "50%       3.000000  117.000000      72.000000      23.000000   30.500000   \n",
              "75%       6.000000  140.250000      80.000000      32.000000  127.250000   \n",
              "max      17.000000  199.000000     122.000000      99.000000  846.000000   \n",
              "\n",
              "              BMI  DiabetesPedigreeFunction         Age     Outcome  \n",
              "count  768.000000                768.000000  768.000000  768.000000  \n",
              "mean    31.992578                  0.471876   33.240885    0.348958  \n",
              "std      7.884160                  0.331329   11.760232    0.476951  \n",
              "min      0.000000                  0.078000   21.000000    0.000000  \n",
              "25%     27.300000                  0.243750   24.000000    0.000000  \n",
              "50%     32.000000                  0.372500   29.000000    0.000000  \n",
              "75%     36.600000                  0.626250   41.000000    1.000000  \n",
              "max     67.100000                  2.420000   81.000000    1.000000  "
            ],
            "text/html": [
              "\n",
              "  <div id=\"df-09f932d8-42cd-4afb-9414-f086a8b969de\" class=\"colab-df-container\">\n",
              "    <div>\n",
              "<style scoped>\n",
              "    .dataframe tbody tr th:only-of-type {\n",
              "        vertical-align: middle;\n",
              "    }\n",
              "\n",
              "    .dataframe tbody tr th {\n",
              "        vertical-align: top;\n",
              "    }\n",
              "\n",
              "    .dataframe thead th {\n",
              "        text-align: right;\n",
              "    }\n",
              "</style>\n",
              "<table border=\"1\" class=\"dataframe\">\n",
              "  <thead>\n",
              "    <tr style=\"text-align: right;\">\n",
              "      <th></th>\n",
              "      <th>Pregnancies</th>\n",
              "      <th>Glucose</th>\n",
              "      <th>BloodPressure</th>\n",
              "      <th>SkinThickness</th>\n",
              "      <th>Insulin</th>\n",
              "      <th>BMI</th>\n",
              "      <th>DiabetesPedigreeFunction</th>\n",
              "      <th>Age</th>\n",
              "      <th>Outcome</th>\n",
              "    </tr>\n",
              "  </thead>\n",
              "  <tbody>\n",
              "    <tr>\n",
              "      <th>count</th>\n",
              "      <td>768.000000</td>\n",
              "      <td>768.000000</td>\n",
              "      <td>768.000000</td>\n",
              "      <td>768.000000</td>\n",
              "      <td>768.000000</td>\n",
              "      <td>768.000000</td>\n",
              "      <td>768.000000</td>\n",
              "      <td>768.000000</td>\n",
              "      <td>768.000000</td>\n",
              "    </tr>\n",
              "    <tr>\n",
              "      <th>mean</th>\n",
              "      <td>3.845052</td>\n",
              "      <td>120.894531</td>\n",
              "      <td>69.105469</td>\n",
              "      <td>20.536458</td>\n",
              "      <td>79.799479</td>\n",
              "      <td>31.992578</td>\n",
              "      <td>0.471876</td>\n",
              "      <td>33.240885</td>\n",
              "      <td>0.348958</td>\n",
              "    </tr>\n",
              "    <tr>\n",
              "      <th>std</th>\n",
              "      <td>3.369578</td>\n",
              "      <td>31.972618</td>\n",
              "      <td>19.355807</td>\n",
              "      <td>15.952218</td>\n",
              "      <td>115.244002</td>\n",
              "      <td>7.884160</td>\n",
              "      <td>0.331329</td>\n",
              "      <td>11.760232</td>\n",
              "      <td>0.476951</td>\n",
              "    </tr>\n",
              "    <tr>\n",
              "      <th>min</th>\n",
              "      <td>0.000000</td>\n",
              "      <td>0.000000</td>\n",
              "      <td>0.000000</td>\n",
              "      <td>0.000000</td>\n",
              "      <td>0.000000</td>\n",
              "      <td>0.000000</td>\n",
              "      <td>0.078000</td>\n",
              "      <td>21.000000</td>\n",
              "      <td>0.000000</td>\n",
              "    </tr>\n",
              "    <tr>\n",
              "      <th>25%</th>\n",
              "      <td>1.000000</td>\n",
              "      <td>99.000000</td>\n",
              "      <td>62.000000</td>\n",
              "      <td>0.000000</td>\n",
              "      <td>0.000000</td>\n",
              "      <td>27.300000</td>\n",
              "      <td>0.243750</td>\n",
              "      <td>24.000000</td>\n",
              "      <td>0.000000</td>\n",
              "    </tr>\n",
              "    <tr>\n",
              "      <th>50%</th>\n",
              "      <td>3.000000</td>\n",
              "      <td>117.000000</td>\n",
              "      <td>72.000000</td>\n",
              "      <td>23.000000</td>\n",
              "      <td>30.500000</td>\n",
              "      <td>32.000000</td>\n",
              "      <td>0.372500</td>\n",
              "      <td>29.000000</td>\n",
              "      <td>0.000000</td>\n",
              "    </tr>\n",
              "    <tr>\n",
              "      <th>75%</th>\n",
              "      <td>6.000000</td>\n",
              "      <td>140.250000</td>\n",
              "      <td>80.000000</td>\n",
              "      <td>32.000000</td>\n",
              "      <td>127.250000</td>\n",
              "      <td>36.600000</td>\n",
              "      <td>0.626250</td>\n",
              "      <td>41.000000</td>\n",
              "      <td>1.000000</td>\n",
              "    </tr>\n",
              "    <tr>\n",
              "      <th>max</th>\n",
              "      <td>17.000000</td>\n",
              "      <td>199.000000</td>\n",
              "      <td>122.000000</td>\n",
              "      <td>99.000000</td>\n",
              "      <td>846.000000</td>\n",
              "      <td>67.100000</td>\n",
              "      <td>2.420000</td>\n",
              "      <td>81.000000</td>\n",
              "      <td>1.000000</td>\n",
              "    </tr>\n",
              "  </tbody>\n",
              "</table>\n",
              "</div>\n",
              "    <div class=\"colab-df-buttons\">\n",
              "\n",
              "  <div class=\"colab-df-container\">\n",
              "    <button class=\"colab-df-convert\" onclick=\"convertToInteractive('df-09f932d8-42cd-4afb-9414-f086a8b969de')\"\n",
              "            title=\"Convert this dataframe to an interactive table.\"\n",
              "            style=\"display:none;\">\n",
              "\n",
              "  <svg xmlns=\"http://www.w3.org/2000/svg\" height=\"24px\" viewBox=\"0 -960 960 960\">\n",
              "    <path d=\"M120-120v-720h720v720H120Zm60-500h600v-160H180v160Zm220 220h160v-160H400v160Zm0 220h160v-160H400v160ZM180-400h160v-160H180v160Zm440 0h160v-160H620v160ZM180-180h160v-160H180v160Zm440 0h160v-160H620v160Z\"/>\n",
              "  </svg>\n",
              "    </button>\n",
              "\n",
              "  <style>\n",
              "    .colab-df-container {\n",
              "      display:flex;\n",
              "      gap: 12px;\n",
              "    }\n",
              "\n",
              "    .colab-df-convert {\n",
              "      background-color: #E8F0FE;\n",
              "      border: none;\n",
              "      border-radius: 50%;\n",
              "      cursor: pointer;\n",
              "      display: none;\n",
              "      fill: #1967D2;\n",
              "      height: 32px;\n",
              "      padding: 0 0 0 0;\n",
              "      width: 32px;\n",
              "    }\n",
              "\n",
              "    .colab-df-convert:hover {\n",
              "      background-color: #E2EBFA;\n",
              "      box-shadow: 0px 1px 2px rgba(60, 64, 67, 0.3), 0px 1px 3px 1px rgba(60, 64, 67, 0.15);\n",
              "      fill: #174EA6;\n",
              "    }\n",
              "\n",
              "    .colab-df-buttons div {\n",
              "      margin-bottom: 4px;\n",
              "    }\n",
              "\n",
              "    [theme=dark] .colab-df-convert {\n",
              "      background-color: #3B4455;\n",
              "      fill: #D2E3FC;\n",
              "    }\n",
              "\n",
              "    [theme=dark] .colab-df-convert:hover {\n",
              "      background-color: #434B5C;\n",
              "      box-shadow: 0px 1px 3px 1px rgba(0, 0, 0, 0.15);\n",
              "      filter: drop-shadow(0px 1px 2px rgba(0, 0, 0, 0.3));\n",
              "      fill: #FFFFFF;\n",
              "    }\n",
              "  </style>\n",
              "\n",
              "    <script>\n",
              "      const buttonEl =\n",
              "        document.querySelector('#df-09f932d8-42cd-4afb-9414-f086a8b969de button.colab-df-convert');\n",
              "      buttonEl.style.display =\n",
              "        google.colab.kernel.accessAllowed ? 'block' : 'none';\n",
              "\n",
              "      async function convertToInteractive(key) {\n",
              "        const element = document.querySelector('#df-09f932d8-42cd-4afb-9414-f086a8b969de');\n",
              "        const dataTable =\n",
              "          await google.colab.kernel.invokeFunction('convertToInteractive',\n",
              "                                                    [key], {});\n",
              "        if (!dataTable) return;\n",
              "\n",
              "        const docLinkHtml = 'Like what you see? Visit the ' +\n",
              "          '<a target=\"_blank\" href=https://colab.research.google.com/notebooks/data_table.ipynb>data table notebook</a>'\n",
              "          + ' to learn more about interactive tables.';\n",
              "        element.innerHTML = '';\n",
              "        dataTable['output_type'] = 'display_data';\n",
              "        await google.colab.output.renderOutput(dataTable, element);\n",
              "        const docLink = document.createElement('div');\n",
              "        docLink.innerHTML = docLinkHtml;\n",
              "        element.appendChild(docLink);\n",
              "      }\n",
              "    </script>\n",
              "  </div>\n",
              "\n",
              "\n",
              "<div id=\"df-8f7f80e3-e39b-4c07-b211-1e1d64cdb2ff\">\n",
              "  <button class=\"colab-df-quickchart\" onclick=\"quickchart('df-8f7f80e3-e39b-4c07-b211-1e1d64cdb2ff')\"\n",
              "            title=\"Suggest charts\"\n",
              "            style=\"display:none;\">\n",
              "\n",
              "<svg xmlns=\"http://www.w3.org/2000/svg\" height=\"24px\"viewBox=\"0 0 24 24\"\n",
              "     width=\"24px\">\n",
              "    <g>\n",
              "        <path d=\"M19 3H5c-1.1 0-2 .9-2 2v14c0 1.1.9 2 2 2h14c1.1 0 2-.9 2-2V5c0-1.1-.9-2-2-2zM9 17H7v-7h2v7zm4 0h-2V7h2v10zm4 0h-2v-4h2v4z\"/>\n",
              "    </g>\n",
              "</svg>\n",
              "  </button>\n",
              "\n",
              "<style>\n",
              "  .colab-df-quickchart {\n",
              "      --bg-color: #E8F0FE;\n",
              "      --fill-color: #1967D2;\n",
              "      --hover-bg-color: #E2EBFA;\n",
              "      --hover-fill-color: #174EA6;\n",
              "      --disabled-fill-color: #AAA;\n",
              "      --disabled-bg-color: #DDD;\n",
              "  }\n",
              "\n",
              "  [theme=dark] .colab-df-quickchart {\n",
              "      --bg-color: #3B4455;\n",
              "      --fill-color: #D2E3FC;\n",
              "      --hover-bg-color: #434B5C;\n",
              "      --hover-fill-color: #FFFFFF;\n",
              "      --disabled-bg-color: #3B4455;\n",
              "      --disabled-fill-color: #666;\n",
              "  }\n",
              "\n",
              "  .colab-df-quickchart {\n",
              "    background-color: var(--bg-color);\n",
              "    border: none;\n",
              "    border-radius: 50%;\n",
              "    cursor: pointer;\n",
              "    display: none;\n",
              "    fill: var(--fill-color);\n",
              "    height: 32px;\n",
              "    padding: 0;\n",
              "    width: 32px;\n",
              "  }\n",
              "\n",
              "  .colab-df-quickchart:hover {\n",
              "    background-color: var(--hover-bg-color);\n",
              "    box-shadow: 0 1px 2px rgba(60, 64, 67, 0.3), 0 1px 3px 1px rgba(60, 64, 67, 0.15);\n",
              "    fill: var(--button-hover-fill-color);\n",
              "  }\n",
              "\n",
              "  .colab-df-quickchart-complete:disabled,\n",
              "  .colab-df-quickchart-complete:disabled:hover {\n",
              "    background-color: var(--disabled-bg-color);\n",
              "    fill: var(--disabled-fill-color);\n",
              "    box-shadow: none;\n",
              "  }\n",
              "\n",
              "  .colab-df-spinner {\n",
              "    border: 2px solid var(--fill-color);\n",
              "    border-color: transparent;\n",
              "    border-bottom-color: var(--fill-color);\n",
              "    animation:\n",
              "      spin 1s steps(1) infinite;\n",
              "  }\n",
              "\n",
              "  @keyframes spin {\n",
              "    0% {\n",
              "      border-color: transparent;\n",
              "      border-bottom-color: var(--fill-color);\n",
              "      border-left-color: var(--fill-color);\n",
              "    }\n",
              "    20% {\n",
              "      border-color: transparent;\n",
              "      border-left-color: var(--fill-color);\n",
              "      border-top-color: var(--fill-color);\n",
              "    }\n",
              "    30% {\n",
              "      border-color: transparent;\n",
              "      border-left-color: var(--fill-color);\n",
              "      border-top-color: var(--fill-color);\n",
              "      border-right-color: var(--fill-color);\n",
              "    }\n",
              "    40% {\n",
              "      border-color: transparent;\n",
              "      border-right-color: var(--fill-color);\n",
              "      border-top-color: var(--fill-color);\n",
              "    }\n",
              "    60% {\n",
              "      border-color: transparent;\n",
              "      border-right-color: var(--fill-color);\n",
              "    }\n",
              "    80% {\n",
              "      border-color: transparent;\n",
              "      border-right-color: var(--fill-color);\n",
              "      border-bottom-color: var(--fill-color);\n",
              "    }\n",
              "    90% {\n",
              "      border-color: transparent;\n",
              "      border-bottom-color: var(--fill-color);\n",
              "    }\n",
              "  }\n",
              "</style>\n",
              "\n",
              "  <script>\n",
              "    async function quickchart(key) {\n",
              "      const quickchartButtonEl =\n",
              "        document.querySelector('#' + key + ' button');\n",
              "      quickchartButtonEl.disabled = true;  // To prevent multiple clicks.\n",
              "      quickchartButtonEl.classList.add('colab-df-spinner');\n",
              "      try {\n",
              "        const charts = await google.colab.kernel.invokeFunction(\n",
              "            'suggestCharts', [key], {});\n",
              "      } catch (error) {\n",
              "        console.error('Error during call to suggestCharts:', error);\n",
              "      }\n",
              "      quickchartButtonEl.classList.remove('colab-df-spinner');\n",
              "      quickchartButtonEl.classList.add('colab-df-quickchart-complete');\n",
              "    }\n",
              "    (() => {\n",
              "      let quickchartButtonEl =\n",
              "        document.querySelector('#df-8f7f80e3-e39b-4c07-b211-1e1d64cdb2ff button');\n",
              "      quickchartButtonEl.style.display =\n",
              "        google.colab.kernel.accessAllowed ? 'block' : 'none';\n",
              "    })();\n",
              "  </script>\n",
              "</div>\n",
              "\n",
              "    </div>\n",
              "  </div>\n"
            ],
            "application/vnd.google.colaboratory.intrinsic+json": {
              "type": "dataframe",
              "summary": "{\n  \"name\": \"data\",\n  \"rows\": 8,\n  \"fields\": [\n    {\n      \"column\": \"Pregnancies\",\n      \"properties\": {\n        \"dtype\": \"number\",\n        \"std\": 269.85223453356366,\n        \"min\": 0.0,\n        \"max\": 768.0,\n        \"num_unique_values\": 8,\n        \"samples\": [\n          3.8450520833333335,\n          3.0,\n          768.0\n        ],\n        \"semantic_type\": \"\",\n        \"description\": \"\"\n      }\n    },\n    {\n      \"column\": \"Glucose\",\n      \"properties\": {\n        \"dtype\": \"number\",\n        \"std\": 243.73802348295857,\n        \"min\": 0.0,\n        \"max\": 768.0,\n        \"num_unique_values\": 8,\n        \"samples\": [\n          120.89453125,\n          117.0,\n          768.0\n        ],\n        \"semantic_type\": \"\",\n        \"description\": \"\"\n      }\n    },\n    {\n      \"column\": \"BloodPressure\",\n      \"properties\": {\n        \"dtype\": \"number\",\n        \"std\": 252.85250535810619,\n        \"min\": 0.0,\n        \"max\": 768.0,\n        \"num_unique_values\": 8,\n        \"samples\": [\n          69.10546875,\n          72.0,\n          768.0\n        ],\n        \"semantic_type\": \"\",\n        \"description\": \"\"\n      }\n    },\n    {\n      \"column\": \"SkinThickness\",\n      \"properties\": {\n        \"dtype\": \"number\",\n        \"std\": 263.7684730531098,\n        \"min\": 0.0,\n        \"max\": 768.0,\n        \"num_unique_values\": 7,\n        \"samples\": [\n          768.0,\n          20.536458333333332,\n          32.0\n        ],\n        \"semantic_type\": \"\",\n        \"description\": \"\"\n      }\n    },\n    {\n      \"column\": \"Insulin\",\n      \"properties\": {\n        \"dtype\": \"number\",\n        \"std\": 350.26059167945886,\n        \"min\": 0.0,\n        \"max\": 846.0,\n        \"num_unique_values\": 7,\n        \"samples\": [\n          768.0,\n          79.79947916666667,\n          127.25\n        ],\n        \"semantic_type\": \"\",\n        \"description\": \"\"\n      }\n    },\n    {\n      \"column\": \"BMI\",\n      \"properties\": {\n        \"dtype\": \"number\",\n        \"std\": 262.05117817552093,\n        \"min\": 0.0,\n        \"max\": 768.0,\n        \"num_unique_values\": 8,\n        \"samples\": [\n          31.992578124999998,\n          32.0,\n          768.0\n        ],\n        \"semantic_type\": \"\",\n        \"description\": \"\"\n      }\n    },\n    {\n      \"column\": \"DiabetesPedigreeFunction\",\n      \"properties\": {\n        \"dtype\": \"number\",\n        \"std\": 271.3005221658502,\n        \"min\": 0.078,\n        \"max\": 768.0,\n        \"num_unique_values\": 8,\n        \"samples\": [\n          0.47187630208333325,\n          0.3725,\n          768.0\n        ],\n        \"semantic_type\": \"\",\n        \"description\": \"\"\n      }\n    },\n    {\n      \"column\": \"Age\",\n      \"properties\": {\n        \"dtype\": \"number\",\n        \"std\": 260.1941178528413,\n        \"min\": 11.76023154067868,\n        \"max\": 768.0,\n        \"num_unique_values\": 8,\n        \"samples\": [\n          33.240885416666664,\n          29.0,\n          768.0\n        ],\n        \"semantic_type\": \"\",\n        \"description\": \"\"\n      }\n    },\n    {\n      \"column\": \"Outcome\",\n      \"properties\": {\n        \"dtype\": \"number\",\n        \"std\": 271.3865920388932,\n        \"min\": 0.0,\n        \"max\": 768.0,\n        \"num_unique_values\": 5,\n        \"samples\": [\n          0.3489583333333333,\n          1.0,\n          0.4769513772427971\n        ],\n        \"semantic_type\": \"\",\n        \"description\": \"\"\n      }\n    }\n  ]\n}"
            }
          },
          "metadata": {},
          "execution_count": 4
        }
      ]
    },
    {
      "cell_type": "markdown",
      "source": [
        "*2. Handle Missing Data:*\n",
        "\n",
        "*• Handle any missing values appropriately, either by dropping or imputing them based on the data.*\n",
        "\n"
      ],
      "metadata": {
        "id": "2CnSNZ8iVX65"
      }
    },
    {
      "cell_type": "code",
      "source": [
        "for col in data.columns:\n",
        "    if data[col].isnull().any():\n",
        "        data[col].fillna(data[col].mean(), inplace=True)\n"
      ],
      "metadata": {
        "id": "HY6klGw9VaFX"
      },
      "execution_count": 14,
      "outputs": []
    },
    {
      "cell_type": "markdown",
      "source": [
        "*3. Feature Engineering:*\n",
        "\n",
        "*• Separate the feature matrix (X) and target variable (y).*\n",
        "\n"
      ],
      "metadata": {
        "id": "lgpbT6qOVfAU"
      }
    },
    {
      "cell_type": "code",
      "source": [
        "X = data.drop('Outcome', axis=1)\n",
        "y = data['Outcome']\n"
      ],
      "metadata": {
        "id": "GYULGn-_VhK9"
      },
      "execution_count": 13,
      "outputs": []
    },
    {
      "cell_type": "markdown",
      "source": [
        "*• Perform a train - test split from scratch using a 70% − 30% ratio.*\n"
      ],
      "metadata": {
        "id": "RxcIcCVYVqJZ"
      }
    },
    {
      "cell_type": "code",
      "source": [
        "def train_test_split_scratch(X, y, test_size=0.3, random_seed=42):\n",
        "  np.random.seed(random_seed)\n",
        "  indices = np.arange(X.shape[0])\n",
        "  np.random.shuffle(indices) # Shuffle the indices\n",
        "  test_split_size = int(len(X) * test_size)\n",
        "  test_indices = indices[:test_split_size]\n",
        "  train_indices = indices[test_split_size:]\n",
        "  X_train, X_test = X[train_indices], X[test_indices]\n",
        "  y_train, y_test = y[train_indices], y[test_indices]\n",
        "  return X_train, X_test, y_train, y_test\n",
        "\n",
        "X_train, X_test, y_train, y_test = train_test_split_scratch(X.values, y.values, test_size=0.3, random_seed=42)\n",
        "\n",
        "print(\"Shape of X_train:\", X_train.shape)\n",
        "print(\"Shape of X_test:\", X_test.shape)\n",
        "print(\"Shape of y_train:\", y_train.shape)\n",
        "print(\"Shape of y_test:\", y_test.shape)\n"
      ],
      "metadata": {
        "colab": {
          "base_uri": "https://localhost:8080/"
        },
        "id": "tZ7b-LXpVrce",
        "outputId": "1e64165b-763b-413b-814b-43095cca0a85"
      },
      "execution_count": 10,
      "outputs": [
        {
          "output_type": "stream",
          "name": "stdout",
          "text": [
            "Shape of X_train: (538, 8)\n",
            "Shape of X_test: (230, 8)\n",
            "Shape of y_train: (538,)\n",
            "Shape of y_test: (230,)\n"
          ]
        }
      ]
    },
    {
      "cell_type": "markdown",
      "source": [
        "*• Build the KNN algorithm from scratch (no libraries like sickit-learn for KNN).*\n",
        "\n",
        "*• Compute distances using Euclidean distance."
      ],
      "metadata": {
        "id": "3ZEkE3UZVxjV"
      }
    },
    {
      "cell_type": "code",
      "source": [
        "def euclidean_distance(point1, point2):\n",
        "  if point1.shape != point2.shape:\n",
        "    raise ValueError(\"Points must have the same dimensions to calculate Euclidean distance.\")\n",
        "  # Calculate the Euclidean distance\n",
        "  distance = np.sqrt(np.sum((point1 - point2) ** 2))\n",
        "  return distance\n",
        "\n"
      ],
      "metadata": {
        "id": "RlJlZv8_V11e"
      },
      "execution_count": 11,
      "outputs": []
    },
    {
      "cell_type": "markdown",
      "source": [
        "**• Write functions for:\n",
        "– Predicting the class for a single query.**\n"
      ],
      "metadata": {
        "id": "yLtfQn-PWH8P"
      }
    },
    {
      "cell_type": "code",
      "source": [
        "def knn_predict_single(query, X_train, y_train, k=3):\n",
        "  distances = [euclidean_distance(query, x) for x in X_train]\n",
        "  sorted_indices = np.argsort(distances)\n",
        "  nearest_indices = sorted_indices[:k]\n",
        "  nearest_labels = y_train[nearest_indices]\n",
        "  prediction = np.bincount(nearest_labels).argmax()\n",
        "  return prediction\n",
        "\n"
      ],
      "metadata": {
        "id": "JT8MQjB0WKfM"
      },
      "execution_count": 15,
      "outputs": []
    },
    {
      "cell_type": "markdown",
      "source": [],
      "metadata": {
        "id": "Q9YboGQ-WdCN"
      }
    },
    {
      "cell_type": "code",
      "source": [
        "def knn_predict(X_test, X_train, y_train, k=3):\n",
        "\n",
        "  predictions = [knn_predict_single(x, X_train, y_train, k) for x in X_test]\n",
        "  return np.array(predictions)\n",
        "\n",
        "try:\n",
        "  # Define the test set for the test case\n",
        "  X_test_sample = X_test[:5] # Taking a small subset for testing\n",
        "  y_test_sample = y_test[:5] # Corresponding labels for the subset\n",
        "  # Make predictions\n",
        "  predictions = knn_predict(X_test_sample, X_train, y_train, k=3)\n",
        "  # Print test results\n",
        "  print(\"Predictions:\", predictions)\n",
        "  print(\"Actual labels:\", y_test_sample)\n",
        "  # Check if predictions match expected format\n",
        "  assert predictions.shape == y_test_sample.shape, \"The shape of predictions does not match the shape of the actual labels.\"\n",
        "  print(\"Test case passed successfully!\")\n",
        "except AssertionError as ae:\n",
        "  print(f\"AssertionError: {ae}\")\n",
        "except Exception as e:\n",
        "  print(f\"An unexpected error occurred: {e}\")\n"
      ],
      "metadata": {
        "colab": {
          "base_uri": "https://localhost:8080/"
        },
        "id": "Fs5k4HGvWk2K",
        "outputId": "c34aef68-f309-4006-f484-f29e9b0ce8e0"
      },
      "execution_count": 17,
      "outputs": [
        {
          "output_type": "stream",
          "name": "stdout",
          "text": [
            "Predictions: [0 1 0 1 1]\n",
            "Actual labels: [0 0 0 0 0]\n",
            "Test case passed successfully!\n"
          ]
        }
      ]
    },
    {
      "cell_type": "markdown",
      "source": [
        "*• Evaluate the performance using accuracy.*\n"
      ],
      "metadata": {
        "id": "gaIZ5aqxWvmD"
      }
    },
    {
      "cell_type": "code",
      "source": [
        "def compute_accuracy(y_true, y_pred):\n",
        "\n",
        "  correct_predictions = np.sum(y_true == y_pred)\n",
        "  total_predictions = len(y_true)\n",
        "  accuracy = (correct_predictions / total_predictions) * 100\n",
        "  return accuracy\n",
        "\n",
        "try:\n",
        "\n",
        "  predictions = knn_predict(X_test, X_train, y_train, k=3)\n",
        "  # Compute the accuracy\n",
        "  accuracy = compute_accuracy(y_test, predictions)\n",
        "  # Print the accuracy\n",
        "  print(f\"Accuracy of the KNN model on the test set: {accuracy:.2f}%\")\n",
        "except Exception as e:\n",
        "  print(f\"An unexpected error occurred during prediction or accuracy computation: {e}\")\n"
      ],
      "metadata": {
        "colab": {
          "base_uri": "https://localhost:8080/"
        },
        "id": "2Kwg9AhGWwbg",
        "outputId": "44ed6c08-028d-4e72-ecaf-7ae87b9df46d"
      },
      "execution_count": 18,
      "outputs": [
        {
          "output_type": "stream",
          "name": "stdout",
          "text": [
            "Accuracy of the KNN model on the test set: 67.39%\n"
          ]
        }
      ]
    },
    {
      "cell_type": "markdown",
      "source": [
        "# *Problem - 2 - Experimentation:*\n",
        "\n",
        "*1. Repeat the Classification Task:*\n",
        "\n",
        "*• Scale the Feature matrix X.*\n"
      ],
      "metadata": {
        "id": "xwj31FwaW1IJ"
      }
    },
    {
      "cell_type": "code",
      "source": [
        "def min_max_scaling(data):\n",
        "\n",
        "    min_vals = np.min(data, axis=0)\n",
        "    max_vals = np.max(data, axis=0)\n",
        "    scaled_data = (data - min_vals) / (max_vals - min_vals)\n",
        "    return scaled_data\n",
        "\n",
        "\n",
        "X_train_scaled = min_max_scaling(X_train)\n",
        "X_test_scaled = min_max_scaling(X_test)\n"
      ],
      "metadata": {
        "id": "DtDb4uBkW3Mc"
      },
      "execution_count": 19,
      "outputs": []
    },
    {
      "cell_type": "markdown",
      "source": [
        "*• Use the scaled data for training and testing the kNN Classifier.*\n"
      ],
      "metadata": {
        "id": "VrCgvEf3W9H5"
      }
    },
    {
      "cell_type": "code",
      "source": [
        "try:\n",
        "  predictions_scaled = knn_predict(X_test_scaled, X_train_scaled, y_train, k=3)\n",
        "  accuracy_scaled = compute_accuracy(y_test, predictions_scaled)\n",
        "  print(f\"Accuracy of the KNN model on the scaled test set: {accuracy_scaled:.2f}%\")\n",
        "except Exception as e:\n",
        "  print(f\"An error occurred during prediction or accuracy computation with scaled data: {e}\")\n",
        "\n",
        "\n"
      ],
      "metadata": {
        "colab": {
          "base_uri": "https://localhost:8080/"
        },
        "id": "gg3WbQqQW_Nc",
        "outputId": "611b0ef8-a9a7-4a32-a1c0-da05f1726735"
      },
      "execution_count": 20,
      "outputs": [
        {
          "output_type": "stream",
          "name": "stdout",
          "text": [
            "Accuracy of the KNN model on the scaled test set: 70.87%\n"
          ]
        }
      ]
    },
    {
      "cell_type": "markdown",
      "source": [
        "\n",
        "*2. Comparative Analysis: Compare the Results -*\n"
      ],
      "metadata": {
        "id": "-lJnnpexXJol"
      }
    },
    {
      "cell_type": "code",
      "source": [
        "\n",
        "import time\n",
        "\n",
        "print(\"Comparison of kNN model performance:\")\n",
        "print(f\"- Accuracy on original data: {accuracy:.2f}%\")\n",
        "print(f\"- Accuracy on scaled data: {accuracy_scaled:.2f}%\")\n",
        "\n",
        "\n",
        "\n",
        "start_time = time.time()\n",
        "predictions = knn_predict(X_test, X_train, y_train, k=3)\n",
        "end_time = time.time()\n",
        "original_time = end_time - start_time\n",
        "\n",
        "start_time_scaled = time.time()\n",
        "predictions_scaled = knn_predict(X_test_scaled, X_train_scaled, y_train, k=3)\n",
        "end_time_scaled = time.time()\n",
        "scaled_time = end_time_scaled - start_time_scaled\n",
        "\n",
        "print(\"\\nPerformance comparison (time taken for prediction):\")\n",
        "print(f\"- Time taken for original data: {original_time:.4f} seconds\")\n",
        "print(f\"- Time taken for scaled data: {scaled_time:.4f} seconds\")\n"
      ],
      "metadata": {
        "colab": {
          "base_uri": "https://localhost:8080/"
        },
        "id": "nHLTY1t1XKul",
        "outputId": "b7efd8d3-7bc2-49fe-cbb6-3bb7d9464142"
      },
      "execution_count": 21,
      "outputs": [
        {
          "output_type": "stream",
          "name": "stdout",
          "text": [
            "Comparison of kNN model performance:\n",
            "- Accuracy on original data: 67.39%\n",
            "- Accuracy on scaled data: 70.87%\n",
            "\n",
            "Performance comparison (time taken for prediction):\n",
            "- Time taken for original data: 1.6483 seconds\n",
            "- Time taken for scaled data: 1.4777 seconds\n"
          ]
        }
      ]
    },
    {
      "cell_type": "markdown",
      "source": [
        "# *Problem - 3 - Experimentation with k:*\n",
        "\n",
        "*1. Vary the number of neighbors - k:*\n"
      ],
      "metadata": {
        "id": "_5zHGrWrXTZl"
      }
    },
    {
      "cell_type": "code",
      "source": [
        "\n",
        "k_values = range(1, 16)\n",
        "\n",
        "original_accuracies = []\n",
        "scaled_accuracies = []\n",
        "original_times = []\n",
        "scaled_times = []\n",
        "\n",
        "\n",
        "for k in k_values:\n",
        "\n",
        "    start_time = time.time()\n",
        "    predictions = knn_predict(X_test, X_train, y_train, k=k)\n",
        "    end_time = time.time()\n",
        "    original_accuracy = compute_accuracy(y_test, predictions)\n",
        "    original_accuracies.append(original_accuracy)\n",
        "    original_times.append(end_time - start_time)\n",
        "\n",
        "    # Scaled dataset\n",
        "    start_time_scaled = time.time()\n",
        "    predictions_scaled = knn_predict(X_test_scaled, X_train_scaled, y_train, k=k)\n",
        "    end_time_scaled = time.time()\n",
        "    scaled_accuracy = compute_accuracy(y_test, predictions_scaled)\n",
        "    scaled_accuracies.append(scaled_accuracy)\n",
        "    scaled_times.append(end_time_scaled - start_time_scaled)\n",
        "\n",
        "\n",
        "print(\"\\nPerformance for different values of k:\")\n",
        "for i, k in enumerate(k_values):\n",
        "    print(f\"k = {k}:\")\n",
        "    print(f\"  - Original Accuracy: {original_accuracies[i]:.2f}%\")\n",
        "    print(f\"  - Scaled Accuracy: {scaled_accuracies[i]:.2f}%\")\n",
        "    print(f\"  - Original Time: {original_times[i]:.4f} seconds\")\n",
        "    print(f\"  - Scaled Time: {scaled_times[i]:.4f} seconds\")\n",
        "\n"
      ],
      "metadata": {
        "colab": {
          "base_uri": "https://localhost:8080/"
        },
        "id": "VmJztvhnXUT_",
        "outputId": "5e847950-6e10-4cc9-fe5c-9c8f765f762c"
      },
      "execution_count": 23,
      "outputs": [
        {
          "output_type": "stream",
          "name": "stdout",
          "text": [
            "\n",
            "Performance for different values of k:\n",
            "k = 1:\n",
            "  - Original Accuracy: 68.70%\n",
            "  - Scaled Accuracy: 70.00%\n",
            "  - Original Time: 0.8744 seconds\n",
            "  - Scaled Time: 1.0707 seconds\n",
            "k = 2:\n",
            "  - Original Accuracy: 72.61%\n",
            "  - Scaled Accuracy: 70.43%\n",
            "  - Original Time: 0.8667 seconds\n",
            "  - Scaled Time: 0.8719 seconds\n",
            "k = 3:\n",
            "  - Original Accuracy: 67.39%\n",
            "  - Scaled Accuracy: 70.87%\n",
            "  - Original Time: 0.8753 seconds\n",
            "  - Scaled Time: 0.8320 seconds\n",
            "k = 4:\n",
            "  - Original Accuracy: 72.17%\n",
            "  - Scaled Accuracy: 71.74%\n",
            "  - Original Time: 0.8728 seconds\n",
            "  - Scaled Time: 0.8832 seconds\n",
            "k = 5:\n",
            "  - Original Accuracy: 68.70%\n",
            "  - Scaled Accuracy: 71.74%\n",
            "  - Original Time: 0.8586 seconds\n",
            "  - Scaled Time: 0.8720 seconds\n",
            "k = 6:\n",
            "  - Original Accuracy: 70.00%\n",
            "  - Scaled Accuracy: 73.48%\n",
            "  - Original Time: 0.9171 seconds\n",
            "  - Scaled Time: 1.4672 seconds\n",
            "k = 7:\n",
            "  - Original Accuracy: 69.13%\n",
            "  - Scaled Accuracy: 71.74%\n",
            "  - Original Time: 1.4838 seconds\n",
            "  - Scaled Time: 1.4361 seconds\n",
            "k = 8:\n",
            "  - Original Accuracy: 71.30%\n",
            "  - Scaled Accuracy: 74.35%\n",
            "  - Original Time: 1.3082 seconds\n",
            "  - Scaled Time: 0.8538 seconds\n",
            "k = 9:\n",
            "  - Original Accuracy: 70.00%\n",
            "  - Scaled Accuracy: 74.35%\n",
            "  - Original Time: 0.8671 seconds\n",
            "  - Scaled Time: 0.8905 seconds\n",
            "k = 10:\n",
            "  - Original Accuracy: 71.74%\n",
            "  - Scaled Accuracy: 74.35%\n",
            "  - Original Time: 0.8489 seconds\n",
            "  - Scaled Time: 0.8551 seconds\n",
            "k = 11:\n",
            "  - Original Accuracy: 73.04%\n",
            "  - Scaled Accuracy: 74.78%\n",
            "  - Original Time: 0.8501 seconds\n",
            "  - Scaled Time: 0.8538 seconds\n",
            "k = 12:\n",
            "  - Original Accuracy: 73.91%\n",
            "  - Scaled Accuracy: 73.04%\n",
            "  - Original Time: 0.8495 seconds\n",
            "  - Scaled Time: 0.8849 seconds\n",
            "k = 13:\n",
            "  - Original Accuracy: 74.35%\n",
            "  - Scaled Accuracy: 74.78%\n",
            "  - Original Time: 0.9056 seconds\n",
            "  - Scaled Time: 1.5304 seconds\n",
            "k = 14:\n",
            "  - Original Accuracy: 72.61%\n",
            "  - Scaled Accuracy: 74.78%\n",
            "  - Original Time: 1.8564 seconds\n",
            "  - Scaled Time: 1.8608 seconds\n",
            "k = 15:\n",
            "  - Original Accuracy: 73.91%\n",
            "  - Scaled Accuracy: 76.09%\n",
            "  - Original Time: 1.2615 seconds\n",
            "  - Scaled Time: 2.5230 seconds\n"
          ]
        }
      ]
    },
    {
      "cell_type": "markdown",
      "source": [
        "*2. Visualize the Results:*\n",
        "\n",
        "*• Plot the following graphs:*\n",
        "\n",
        "*– k vs. Accuracy for original and scaled datasets.*\n"
      ],
      "metadata": {
        "id": "lO3o15VOYIoV"
      }
    },
    {
      "cell_type": "code",
      "source": [
        "plt.figure(figsize=(10, 6))\n",
        "plt.plot(k_values, original_accuracies, marker='o', label='Original Dataset')\n",
        "plt.plot(k_values, scaled_accuracies, marker='x', label='Scaled Dataset')\n",
        "plt.xlabel('k (Number of Neighbors)')\n",
        "plt.ylabel('Accuracy (%)')\n",
        "plt.title('k vs. Accuracy for Original and Scaled Datasets')\n",
        "plt.legend()\n",
        "plt.grid(True)\n",
        "plt.show()\n"
      ],
      "metadata": {
        "colab": {
          "base_uri": "https://localhost:8080/",
          "height": 564
        },
        "id": "JYq6N9zdYJlO",
        "outputId": "52498a6b-657f-4144-d448-f4a2c34b3549"
      },
      "execution_count": 24,
      "outputs": [
        {
          "output_type": "display_data",
          "data": {
            "text/plain": [
              "<Figure size 1000x600 with 1 Axes>"
            ],
            "image/png": "[encoded data removed]"
          },
          "metadata": {}
        }
      ]
    },
    {
      "cell_type": "markdown",
      "source": [
        "*– k vs. Time Taken for original and scaled datasets.*\n"
      ],
      "metadata": {
        "id": "u-yvApSDYPcX"
      }
    },
    {
      "cell_type": "code",
      "source": [
        "plt.figure(figsize=(10, 6))\n",
        "plt.plot(k_values, original_times, marker='o', label='Original Dataset')\n",
        "plt.plot(k_values, scaled_times, marker='x', label='Scaled Dataset')\n",
        "plt.xlabel('k (Number of Neighbors)')\n",
        "plt.ylabel('Time Taken (seconds)')\n",
        "plt.title('k vs. Time Taken for Original and Scaled Datasets')\n",
        "plt.legend()\n",
        "plt.grid(True)\n",
        "plt.show()\n"
      ],
      "metadata": {
        "colab": {
          "base_uri": "https://localhost:8080/",
          "height": 564
        },
        "id": "PbFjUFWrYReO",
        "outputId": "5ed2e90e-4d22-46c1-ab3e-ebc930ff27f9"
      },
      "execution_count": 25,
      "outputs": [
        {
          "output_type": "display_data",
          "data": {
            "text/plain": [
              "<Figure size 1000x600 with 1 Axes>"
            ],
            "image/png": "[encoded data removed]"
          },
          "metadata": {}
        }
      ]
    },
    {
      "cell_type": "markdown",
      "source": [
        "*• Discuss how the choice of k affects the accuracy and computational cost.*\n"
      ],
      "metadata": {
        "id": "bnRfA7RhYVNr"
      }
    },
    {
      "cell_type": "code",
      "source": [
        "print(\"Discussion on the choice of k:\")\n",
        "print(\"Smaller values of k (e.g., k=1, 2, 3):\")\n",
        "print(\"  - Higher accuracy in some cases due to capturing local patterns, but can be sensitive to noise or outliers.\")\n",
        "print(\"  - Lower computational cost since fewer distances need to be calculated.\")\n",
        "print(\"Larger values of k (e.g., k=10, 15):\")\n",
        "print(\"  - Smoother decision boundaries, less sensitive to noise and outliers.\")\n",
        "print(\"  - Higher computational cost due to calculating more distances.\")\n",
        "print(\"Optimal k:\")\n",
        "print(\"  - Finding the optimal value of k depends on dataset characteristics, and is often determined through techniques like cross-validation.\")\n",
        "print(\"  - A larger k usually leads to a smoother decision boundary and lower variance but could lead to higher bias.\")\n"
      ],
      "metadata": {
        "colab": {
          "base_uri": "https://localhost:8080/"
        },
        "id": "qgyj9EyiYX0Q",
        "outputId": "28496c00-465b-4577-e13e-d1b1f8d5d6f3"
      },
      "execution_count": 26,
      "outputs": [
        {
          "output_type": "stream",
          "name": "stdout",
          "text": [
            "Discussion on the choice of k:\n",
            "Smaller values of k (e.g., k=1, 2, 3):\n",
            "  - Higher accuracy in some cases due to capturing local patterns, but can be sensitive to noise or outliers.\n",
            "  - Lower computational cost since fewer distances need to be calculated.\n",
            "Larger values of k (e.g., k=10, 15):\n",
            "  - Smoother decision boundaries, less sensitive to noise and outliers.\n",
            "  - Higher computational cost due to calculating more distances.\n",
            "Optimal k:\n",
            "  - Finding the optimal value of k depends on dataset characteristics, and is often determined through techniques like cross-validation.\n",
            "  - A larger k usually leads to a smoother decision boundary and lower variance but could lead to higher bias.\n"
          ]
        }
      ]
    },
    {
      "cell_type": "markdown",
      "source": [
        "*• Identify the optimal k based on your analysis.*\n"
      ],
      "metadata": {
        "id": "k_AH5NuGYeTB"
      }
    },
    {
      "cell_type": "code",
      "source": [
        "optimal_k = k_values[np.argmax(scaled_accuracies)]\n",
        "print(f\"\\nOptimal k based on accuracy for the scaled dataset: {optimal_k}\")"
      ],
      "metadata": {
        "colab": {
          "base_uri": "https://localhost:8080/"
        },
        "id": "NpKPgOw4YfYC",
        "outputId": "b5eff1eb-6e07-49d6-c9be-5b2ba5612794"
      },
      "execution_count": 27,
      "outputs": [
        {
          "output_type": "stream",
          "name": "stdout",
          "text": [
            "\n",
            "Optimal k based on accuracy for the scaled dataset: 15\n"
          ]
        }
      ]
    }
  ]
}